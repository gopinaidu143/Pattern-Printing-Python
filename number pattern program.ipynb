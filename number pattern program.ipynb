{
 "cells": [
  {
   "cell_type": "code",
   "execution_count": 3,
   "id": "22378871",
   "metadata": {},
   "outputs": [
    {
     "name": "stdout",
     "output_type": "stream",
     "text": [
      "1 \n",
      "2 2 \n",
      "3 3 3 \n",
      "4 4 4 4 \n",
      "5 5 5 5 5 \n"
     ]
    }
   ],
   "source": [
    "n=5\n",
    "p=1\n",
    "for i in range(n):\n",
    "    for j in range(i+1):\n",
    "        print(p,end=' ')\n",
    "    p+=1\n",
    "    print()"
   ]
  },
  {
   "cell_type": "code",
   "execution_count": 5,
   "id": "b4e40f73",
   "metadata": {},
   "outputs": [
    {
     "name": "stdout",
     "output_type": "stream",
     "text": [
      "1 1 1 1 1 \n",
      "2 2 2 2 \n",
      "3 3 3 \n",
      "4 4 \n",
      "5 \n"
     ]
    }
   ],
   "source": [
    "n=5\n",
    "p=1\n",
    "for i in range(n):\n",
    "    for j in range(i,n):\n",
    "        print(p,end=' ')\n",
    "    p+=1\n",
    "    print()"
   ]
  },
  {
   "cell_type": "code",
   "execution_count": 6,
   "id": "704cdca7",
   "metadata": {},
   "outputs": [
    {
     "name": "stdout",
     "output_type": "stream",
     "text": [
      "  1 1 1 1 1 \n",
      "    2 2 2 2 \n",
      "      3 3 3 \n",
      "        4 4 \n",
      "          5 \n"
     ]
    }
   ],
   "source": [
    "n=5\n",
    "p=1\n",
    "for i in range(n):\n",
    "    for j in range(i+1):\n",
    "        print(' ',end=' ')\n",
    "    for j in range(i,n):\n",
    "        print(p,end=' ')\n",
    "    p+=1\n",
    "    print()"
   ]
  },
  {
   "cell_type": "code",
   "execution_count": 11,
   "id": "d7e743d0",
   "metadata": {},
   "outputs": [
    {
     "name": "stdout",
     "output_type": "stream",
     "text": [
      "          1 \n",
      "        2 2 2 \n",
      "      3 3 3 3 3 \n",
      "    4 4 4 4 4 4 4 \n",
      "  5 5 5 5 5 5 5 5 5 \n"
     ]
    }
   ],
   "source": [
    "n=5\n",
    "p=1\n",
    "for i in range(n):\n",
    "    for j in range(i,n):\n",
    "        print(' ',end=\" \")\n",
    "    for j in range(i):\n",
    "        print(p,end=' ')\n",
    "    for j in range(i+1):\n",
    "        print(p,end=' ')\n",
    "    p+=1\n",
    "    print()\n"
   ]
  },
  {
   "cell_type": "code",
   "execution_count": 13,
   "id": "5cc2185a",
   "metadata": {},
   "outputs": [
    {
     "name": "stdout",
     "output_type": "stream",
     "text": [
      "  1 1 1 1 1 1 1 1 1 \n",
      "    2 2 2 2 2 2 2 \n",
      "      3 3 3 3 3 \n",
      "        4 4 4 \n",
      "          5 \n"
     ]
    }
   ],
   "source": [
    "n=5\n",
    "p=1\n",
    "for i in range(n):\n",
    "    for j in range(i+1):\n",
    "        print(' ',end=' ')\n",
    "    for j in range(i,n-1):\n",
    "        print(p,end=' ')\n",
    "    for j in range(i,n):\n",
    "        print(p,end=\" \")\n",
    "    p+=1\n",
    "    print()"
   ]
  },
  {
   "cell_type": "code",
   "execution_count": 19,
   "id": "79b3eb15",
   "metadata": {},
   "outputs": [
    {
     "name": "stdout",
     "output_type": "stream",
     "text": [
      "0 \n",
      "2 2 \n",
      "4 4 4 \n",
      "6 6 6 6 \n",
      "8 8 8 8 8 \n"
     ]
    }
   ],
   "source": [
    "n=5\n",
    "p=0\n",
    "for i in range(n):\n",
    "    for j in range(i+1):\n",
    "        print(p,end=' ')\n",
    "    p+=2\n",
    "    print()"
   ]
  },
  {
   "cell_type": "code",
   "execution_count": 22,
   "id": "2924f315",
   "metadata": {},
   "outputs": [
    {
     "name": "stdout",
     "output_type": "stream",
     "text": [
      "1 \n",
      "2 2 \n",
      "1 1 1 \n",
      "2 2 2 2 \n",
      "1 1 1 1 1 \n"
     ]
    }
   ],
   "source": [
    "n=5\n",
    "\n",
    "for i in range(n):\n",
    "    if i%2==0:\n",
    "        for j in range(i+1):\n",
    "            print('1',end=' ')\n",
    "    else:\n",
    "        for j in range(i+1):\n",
    "            print('2',end=' ')\n",
    "    \n",
    "    print()"
   ]
  },
  {
   "cell_type": "code",
   "execution_count": 24,
   "id": "c2328f3a",
   "metadata": {},
   "outputs": [
    {
     "name": "stdout",
     "output_type": "stream",
     "text": [
      "  # # # # # \n",
      "    $ $ $ $ \n",
      "      # # # \n",
      "        $ $ \n",
      "          # \n"
     ]
    }
   ],
   "source": [
    "n=5\n",
    "for i in range(n):\n",
    "    for j in range(i+1):\n",
    "        print(' ',end=\" \")\n",
    "    if i%2==0:\n",
    "        for j in range(i,n):\n",
    "            print('#',end=' ')\n",
    "    else:\n",
    "        for j in range(i,n):\n",
    "            print('$',end=' ')\n",
    "    print()\n",
    "    \n"
   ]
  },
  {
   "cell_type": "code",
   "execution_count": 27,
   "id": "51078e23",
   "metadata": {},
   "outputs": [
    {
     "name": "stdout",
     "output_type": "stream",
     "text": [
      "          a \n",
      "        b b b \n",
      "      a a a a a \n",
      "    b b b b b b b \n",
      "  a a a a a a a a a \n"
     ]
    }
   ],
   "source": [
    "n=5\n",
    "for i in range(n):\n",
    "    for j in range(i,n):\n",
    "        print(' ',end=' ')\n",
    "    if i%2==0:\n",
    "        for j in range(i):\n",
    "            print('a',end=' ')\n",
    "    else:\n",
    "        for j in range(i):\n",
    "            print('b',end=' ')\n",
    "    if i%2==0:\n",
    "        for j in range(i+1):\n",
    "            print('a',end=\" \")\n",
    "    else:\n",
    "        for j in range(i+1):\n",
    "            print('b',end=' ')\n",
    "    print()"
   ]
  },
  {
   "cell_type": "code",
   "execution_count": 36,
   "id": "c5c7da77",
   "metadata": {},
   "outputs": [
    {
     "name": "stdout",
     "output_type": "stream",
     "text": [
      "          1 \n",
      "        2 2 2 \n",
      "      3 3 3 3 3 \n",
      "    4 4 4 4 4 4 4 \n",
      "  5 5 5 5 5 5 5 5 5 \n",
      "    6 6 6 6 6 6 6 \n",
      "      7 7 7 7 7 \n",
      "        8 8 8 \n",
      "          9 \n"
     ]
    }
   ],
   "source": [
    "n=5\n",
    "p=1\n",
    "for i in range(n-1):\n",
    "    for j in range(i,n):\n",
    "        print(' ',end=' ')\n",
    "    for j in range(i):\n",
    "        print(p,end=' ')\n",
    "    for j in range(i+1):\n",
    "        print(p,end=' ')\n",
    "    p+=1\n",
    "    print()\n",
    "for i in range(n):\n",
    "    for j in range(i+1):\n",
    "        print(' ',end=\" \")\n",
    "    for j in range(i,n-1):\n",
    "        print(p,end=' ')\n",
    "    for j in range(i,n):\n",
    "        print(p,end=\" \")\n",
    "    p+=1\n",
    "    print()"
   ]
  },
  {
   "cell_type": "code",
   "execution_count": 45,
   "id": "c647fccc",
   "metadata": {},
   "outputs": [
    {
     "name": "stdout",
     "output_type": "stream",
     "text": [
      "1                 1 \n",
      "2 2             2 2 \n",
      "3 3 3         3 3 3 \n",
      "4 4 4 4     4 4 4 4 \n",
      "5 5 5 5 5 5 5 5 5 5 \n",
      "6 6 6 6     6 6 6 6 \n",
      "7 7 7         7 7 7 \n",
      "8 8             8 8 \n",
      "9                 9 \n"
     ]
    }
   ],
   "source": [
    "n=5\n",
    "p=1\n",
    "for i in range(n-1):\n",
    "    for j in range(i+1):\n",
    "        print(p,end=' ')\n",
    "    for j in range(i,n-1):\n",
    "        print(' ',end=' ')\n",
    "    for j in range(i,n-1):\n",
    "        print(' ',end=' ')\n",
    "    for j in range(i+1):\n",
    "        print(p,end=\" \")\n",
    "    p+=1\n",
    "    print()\n",
    "for i in range(n):\n",
    "    for j in range(i,n):\n",
    "        print(p,end=' ')\n",
    "    for j in range(i):\n",
    "        print(' ',end=\" \")\n",
    "    for j in range(i):\n",
    "        print(' ',end=' ')\n",
    "    for j in range(i,n):\n",
    "        print(p,end=' ')\n",
    "    p+=1\n",
    "    print()"
   ]
  },
  {
   "cell_type": "code",
   "execution_count": null,
   "id": "c1fb83ca",
   "metadata": {},
   "outputs": [],
   "source": []
  }
 ],
 "metadata": {
  "kernelspec": {
   "display_name": "Python 3 (ipykernel)",
   "language": "python",
   "name": "python3"
  },
  "language_info": {
   "codemirror_mode": {
    "name": "ipython",
    "version": 3
   },
   "file_extension": ".py",
   "mimetype": "text/x-python",
   "name": "python",
   "nbconvert_exporter": "python",
   "pygments_lexer": "ipython3",
   "version": "3.9.7"
  }
 },
 "nbformat": 4,
 "nbformat_minor": 5
}
